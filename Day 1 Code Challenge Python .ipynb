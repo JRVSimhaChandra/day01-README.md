{
 "cells": [
  {
   "cell_type": "markdown",
   "id": "836be1d1-8a2c-4331-9cf0-42aadb70f578",
   "metadata": {},
   "source": [
    "## Day 1 - Working with Variables in Python to Manage DataNaming"
   ]
  },
  {
   "cell_type": "raw",
   "id": "8e8336c7-c69f-4be0-aa56-291db5c90011",
   "metadata": {},
   "source": [
    "Concepts Practised\n",
    "\n",
    "Printing to the Console in Python\n",
    "String Manipulation and Code Intelligence\n",
    "Debugging\n",
    "The Python Input Function\n",
    "Python Variables\n",
    "Variable Naming"
   ]
  },
  {
   "cell_type": "code",
   "execution_count": 1,
   "id": "3db6eab1-7a12-4f5f-b56c-e56d3cf0ff45",
   "metadata": {},
   "outputs": [
    {
     "name": "stdout",
     "output_type": "stream",
     "text": [
      "Welcome to the Band name Generator!\n"
     ]
    }
   ],
   "source": [
    "print(\"Welcome to the Band name Generator!\")"
   ]
  },
  {
   "cell_type": "code",
   "execution_count": 2,
   "id": "1042dc77-33e2-47aa-ab12-0854bca4422c",
   "metadata": {},
   "outputs": [
    {
     "name": "stdin",
     "output_type": "stream",
     "text": [
      "What city did you grow up in?\n",
      " Hyderabad\n"
     ]
    }
   ],
   "source": [
    "city = input(\"What city did you grow up in?\\n\")"
   ]
  },
  {
   "cell_type": "code",
   "execution_count": 3,
   "id": "6b9d360e-5a93-4bd2-b6a0-92029bc4f47b",
   "metadata": {},
   "outputs": [
    {
     "name": "stdin",
     "output_type": "stream",
     "text": [
      "What is the name of your first pet?\n",
      " Dog\n"
     ]
    }
   ],
   "source": [
    "pet = input(\"What is the name of your first pet?\\n\")"
   ]
  },
  {
   "cell_type": "code",
   "execution_count": 4,
   "id": "eb4d6cff-4540-4400-bcdb-17ab48fceb0e",
   "metadata": {},
   "outputs": [
    {
     "name": "stdout",
     "output_type": "stream",
     "text": [
      "Your band name is Hyderabad Dog\n"
     ]
    }
   ],
   "source": [
    "print(\"Your band name is \" + city + \" \" + pet)"
   ]
  },
  {
   "cell_type": "code",
   "execution_count": null,
   "id": "08ac8b8d-8dc7-4352-bce4-77ee48e017d3",
   "metadata": {},
   "outputs": [],
   "source": []
  }
 ],
 "metadata": {
  "kernelspec": {
   "display_name": "Python 3 (ipykernel)",
   "language": "python",
   "name": "python3"
  },
  "language_info": {
   "codemirror_mode": {
    "name": "ipython",
    "version": 3
   },
   "file_extension": ".py",
   "mimetype": "text/x-python",
   "name": "python",
   "nbconvert_exporter": "python",
   "pygments_lexer": "ipython3",
   "version": "3.12.4"
  }
 },
 "nbformat": 4,
 "nbformat_minor": 5
}
